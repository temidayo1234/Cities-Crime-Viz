{
 "cells": [
  {
   "cell_type": "code",
   "execution_count": 1,
   "metadata": {},
   "outputs": [],
   "source": [
    "# Dependencies\n",
    "from matplotlib import pyplot as plt\n",
    "from scipy.stats import linregress\n",
    "import numpy as np\n",
    "from sklearn import datasets \n",
    "import pandas as pd\n",
    "import time\n",
    "import requests\n",
    "from census import Census\n",
    "#pd.set_option('display.max_rows', 30000)\n",
    "# Census API Key\n",
    "from config import census_key\n",
    "c = Census(census_key, year=2015)"
   ]
  },
  {
   "cell_type": "markdown",
   "metadata": {},
   "source": [
    "## Retrieve Crime Data from FBI Crime Database - UCR"
   ]
  },
  {
   "cell_type": "code",
   "execution_count": 2,
   "metadata": {},
   "outputs": [],
   "source": [
    "#Store file path for crime data in a variable\n",
    "crime_data = \"../Crime Source Data/Offenses_Known_to_Law_Enforcement_by_State_by_City_2019.xls\"\n",
    "\n",
    "#Read data into dataframe\n",
    "crime_data_df=pd.read_excel(crime_data)\n",
    "\n",
    "#Extract the state into a list so all rows in \"state\" column can have a state value\n",
    "state = crime_data_df[\"State\"]\n",
    "states=[]\n",
    "for s in state:\n",
    "    if pd.isnull(s):\n",
    "        states.append(current_state)\n",
    "    else:\n",
    "        current_state = s\n",
    "        states.append(current_state)\n",
    "        \n",
    "#Add newly created list into the dataframe and remove the old column\n",
    "crime_data_df[\"NEW_STATE\"] = states\n",
    "clean_crime_data_df=crime_data_df[[\"NEW_STATE\", \"City\", \"Population\", \"Violent Crime\"]] \n",
    "clean_crime_data_df=clean_crime_data_df.rename(columns={\"NEW_STATE\":\"State\"})\n",
    "\n",
    "#Remove any trailing numbers at the end of state and city names\n",
    "clean_crime_data_df[\"State\"] = clean_crime_data_df[\"State\"].map(lambda x: x.rstrip(\"1234567890\"))\n",
    "clean_crime_data_df[\"City\"] = clean_crime_data_df[\"City\"].map(lambda x: x.rstrip(\"1234567890\"))\n",
    "\n",
    "#Calculate the rate of violent crime per capita and remove any city where the violent crime is 0\n",
    "clean_crime_data_df = clean_crime_data_df.loc[clean_crime_data_df[\"Violent Crime\"]>0]\n",
    "clean_crime_data_df[\"Violent Crime Rate\"] = (clean_crime_data_df[\"Violent Crime\"]/clean_crime_data_df[\"Population\"])*100\n",
    "\n",
    "clean_crime_data_df=clean_crime_data_df.sort_values(\"State\")\n",
    "clean_crime_data_df = clean_crime_data_df.loc[clean_crime_data_df[\"Violent Crime\"]>0]"
   ]
  },
  {
   "cell_type": "code",
   "execution_count": 15,
   "metadata": {},
   "outputs": [],
   "source": [
    "clean_crime_data_df=clean_crime_data_df[[\"State\", \"City\", \"Violent Crime Rate\"]]\n",
    "clean_crime_data_df.to_csv(\"2019_FBI_ViolentCrime.csv\", index=False)\n"
   ]
  },
  {
   "cell_type": "markdown",
   "metadata": {},
   "source": [
    "## Sort Out Maryland and Virginia Crime Rate"
   ]
  },
  {
   "cell_type": "code",
   "execution_count": 3,
   "metadata": {},
   "outputs": [
    {
     "ename": "TypeError",
     "evalue": "append() takes exactly one argument (2 given)",
     "output_type": "error",
     "traceback": [
      "\u001b[1;31m---------------------------------------------------------------------------\u001b[0m",
      "\u001b[1;31mTypeError\u001b[0m                                 Traceback (most recent call last)",
      "\u001b[1;32m<ipython-input-3-4cd95ab44232>\u001b[0m in \u001b[0;36m<module>\u001b[1;34m\u001b[0m\n\u001b[0;32m     25\u001b[0m \u001b[1;32mfor\u001b[0m \u001b[0mindex\u001b[0m\u001b[1;33m,\u001b[0m\u001b[0mrow\u001b[0m \u001b[1;32min\u001b[0m \u001b[0mclean_crime_data_df\u001b[0m\u001b[1;33m.\u001b[0m\u001b[0miterrows\u001b[0m\u001b[1;33m(\u001b[0m\u001b[1;33m)\u001b[0m\u001b[1;33m:\u001b[0m\u001b[1;33m\u001b[0m\u001b[1;33m\u001b[0m\u001b[0m\n\u001b[0;32m     26\u001b[0m     \u001b[1;32mif\u001b[0m \u001b[1;33m(\u001b[0m\u001b[0mrow\u001b[0m\u001b[1;33m[\u001b[0m\u001b[1;34m'State'\u001b[0m\u001b[1;33m]\u001b[0m \u001b[1;33m==\u001b[0m \u001b[0mmd\u001b[0m\u001b[1;33m)\u001b[0m \u001b[1;32mor\u001b[0m \u001b[1;33m(\u001b[0m\u001b[0mrow\u001b[0m\u001b[1;33m[\u001b[0m\u001b[1;34m'State'\u001b[0m\u001b[1;33m]\u001b[0m \u001b[1;33m==\u001b[0m \u001b[0mva\u001b[0m\u001b[1;33m)\u001b[0m \u001b[1;32mor\u001b[0m \u001b[1;33m(\u001b[0m\u001b[0mrow\u001b[0m\u001b[1;33m[\u001b[0m\u001b[1;34m'State'\u001b[0m\u001b[1;33m]\u001b[0m \u001b[1;33m==\u001b[0m \u001b[0mfl\u001b[0m\u001b[1;33m)\u001b[0m \u001b[1;32mor\u001b[0m \u001b[1;33m(\u001b[0m\u001b[0mrow\u001b[0m\u001b[1;33m[\u001b[0m\u001b[1;34m'State'\u001b[0m\u001b[1;33m]\u001b[0m \u001b[1;33m==\u001b[0m \u001b[0mtx\u001b[0m\u001b[1;33m)\u001b[0m \u001b[1;32mor\u001b[0m \u001b[1;33m(\u001b[0m\u001b[0mrow\u001b[0m\u001b[1;33m[\u001b[0m\u001b[1;34m'State'\u001b[0m\u001b[1;33m]\u001b[0m \u001b[1;33m==\u001b[0m \u001b[0mny\u001b[0m\u001b[1;33m)\u001b[0m \u001b[1;32mor\u001b[0m \u001b[1;33m(\u001b[0m\u001b[0mrow\u001b[0m\u001b[1;33m[\u001b[0m\u001b[1;34m'State'\u001b[0m\u001b[1;33m]\u001b[0m \u001b[1;33m==\u001b[0m\u001b[0mnc\u001b[0m\u001b[1;33m)\u001b[0m \u001b[1;32mor\u001b[0m \u001b[1;33m(\u001b[0m\u001b[0mrow\u001b[0m\u001b[1;33m[\u001b[0m\u001b[1;34m'State'\u001b[0m\u001b[1;33m]\u001b[0m \u001b[1;33m==\u001b[0m \u001b[0mca\u001b[0m\u001b[1;33m)\u001b[0m \u001b[1;32mor\u001b[0m \u001b[1;33m(\u001b[0m\u001b[0mrow\u001b[0m\u001b[1;33m[\u001b[0m\u001b[1;34m'State'\u001b[0m\u001b[1;33m]\u001b[0m \u001b[1;33m==\u001b[0m \u001b[0mga\u001b[0m\u001b[1;33m)\u001b[0m \u001b[1;32mor\u001b[0m \u001b[1;33m(\u001b[0m\u001b[0mrow\u001b[0m\u001b[1;33m[\u001b[0m\u001b[1;34m'State'\u001b[0m\u001b[1;33m]\u001b[0m \u001b[1;33m==\u001b[0m \u001b[0mtn\u001b[0m\u001b[1;33m)\u001b[0m\u001b[1;33m:\u001b[0m\u001b[1;33m\u001b[0m\u001b[1;33m\u001b[0m\u001b[0m\n\u001b[1;32m---> 27\u001b[1;33m             \u001b[0mviolent_crime\u001b[0m\u001b[1;33m.\u001b[0m\u001b[0mappend\u001b[0m\u001b[1;33m(\u001b[0m\u001b[0mround\u001b[0m\u001b[1;33m(\u001b[0m\u001b[0mrow\u001b[0m\u001b[1;33m[\u001b[0m\u001b[1;34m\"Violent Crime Rate\"\u001b[0m\u001b[1;33m]\u001b[0m\u001b[1;33m)\u001b[0m\u001b[1;33m,\u001b[0m\u001b[1;36m2\u001b[0m\u001b[1;33m)\u001b[0m\u001b[1;33m\u001b[0m\u001b[1;33m\u001b[0m\u001b[0m\n\u001b[0m\u001b[0;32m     28\u001b[0m             \u001b[0mcity\u001b[0m\u001b[1;33m.\u001b[0m\u001b[0mappend\u001b[0m\u001b[1;33m(\u001b[0m\u001b[0mrow\u001b[0m\u001b[1;33m[\u001b[0m\u001b[1;34m\"City\"\u001b[0m\u001b[1;33m]\u001b[0m\u001b[1;33m)\u001b[0m\u001b[1;33m\u001b[0m\u001b[1;33m\u001b[0m\u001b[0m\n\u001b[0;32m     29\u001b[0m             \u001b[0mstate\u001b[0m\u001b[1;33m.\u001b[0m\u001b[0mappend\u001b[0m\u001b[1;33m(\u001b[0m\u001b[0mrow\u001b[0m\u001b[1;33m[\u001b[0m\u001b[1;34m\"State\"\u001b[0m\u001b[1;33m]\u001b[0m\u001b[1;33m)\u001b[0m\u001b[1;33m\u001b[0m\u001b[1;33m\u001b[0m\u001b[0m\n",
      "\u001b[1;31mTypeError\u001b[0m: append() takes exactly one argument (2 given)"
     ]
    }
   ],
   "source": [
    "#Sort out the highest crime rate for each state\n",
    "#variable to hold highest violent crime for each state\n",
    "violent_crime=[]\n",
    "\n",
    "#variable to track highest violent crime for each state\n",
    "violent_crime_track=0\n",
    "\n",
    "#variable to hold starting state for the loop\n",
    "md='MARYLAND'\n",
    "va='VIRGINIA'\n",
    "fl='FLORIDA'\n",
    "tx='TEXAS'\n",
    "ny='NEW YORK'\n",
    "nc= 'NORTH CAROLINA'\n",
    "ca= 'CALIFORNIA'\n",
    "ga='GEORGIA'\n",
    "tn='TENNESSEE'\n",
    "#variable to append city for highest crime rate\n",
    "city=[]\n",
    "\n",
    "#variable to append city for highest crime rate\n",
    "state=[]\n",
    "\n",
    "#Loop through each row in dataframe \n",
    "for index,row in clean_crime_data_df.iterrows():\n",
    "    if (row['State'] == md) or (row['State'] == va) or (row['State'] == fl) or (row['State'] == tx) or (row['State'] == ny) or (row['State'] ==nc) or (row['State'] == ca) or (row['State'] == ga) or (row['State'] == tn):\n",
    "            violent_crime.append(row[\"Violent Crime Rate\"])\n",
    "            city.append(row[\"City\"])\n",
    "            state.append(row[\"State\"])\n",
    "               \n",
    "#Place newly created lists into dictionary and convert to DataFrame\n",
    "highest_new_dict = {'State':state,'City':city,'Violent Crime Rate':violent_crime}\n",
    "highest_new_df = pd.DataFrame(highest_new_dict)\n",
    "highest_new_df.to_csv(\"2019_NineStates_Crime.csv\", index=False)\n",
    "highest_new_df"
   ]
  },
  {
   "cell_type": "code",
   "execution_count": null,
   "metadata": {},
   "outputs": [],
   "source": []
  },
  {
   "cell_type": "code",
   "execution_count": null,
   "metadata": {},
   "outputs": [],
   "source": []
  }
 ],
 "metadata": {
  "kernelspec": {
   "display_name": "Python 3",
   "language": "python",
   "name": "python3"
  },
  "language_info": {
   "codemirror_mode": {
    "name": "ipython",
    "version": 3
   },
   "file_extension": ".py",
   "mimetype": "text/x-python",
   "name": "python",
   "nbconvert_exporter": "python",
   "pygments_lexer": "ipython3",
   "version": "3.7.6"
  }
 },
 "nbformat": 4,
 "nbformat_minor": 4
}
